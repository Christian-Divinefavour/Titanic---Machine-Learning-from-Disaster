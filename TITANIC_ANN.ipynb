{
  "nbformat": 4,
  "nbformat_minor": 0,
  "metadata": {
    "colab": {
      "name": "TITANIC - ANN.ipynb",
      "provenance": [],
      "authorship_tag": "ABX9TyPCFdUESiVwF7lIMO61WSQV",
      "include_colab_link": true
    },
    "kernelspec": {
      "name": "python3",
      "display_name": "Python 3"
    },
    "language_info": {
      "name": "python"
    }
  },
  "cells": [
    {
      "cell_type": "markdown",
      "metadata": {
        "id": "view-in-github",
        "colab_type": "text"
      },
      "source": [
        "<a href=\"https://colab.research.google.com/github/Christian-Divinefavour/Titanic---Machine-Learning-from-Disaster/blob/main/TITANIC_ANN.ipynb\" target=\"_parent\"><img src=\"https://colab.research.google.com/assets/colab-badge.svg\" alt=\"Open In Colab\"/></a>"
      ]
    },
    {
      "cell_type": "code",
      "metadata": {
        "id": "NNhHKou-_SqA"
      },
      "source": [
        "import pandas as pd\n",
        "import numpy as np\n",
        "import seaborn as sns\n",
        "import matplotlib.pyplot as plt\n",
        "%matplotlib inline\n",
        "from sklearn.model_selection import train_test_split\n",
        "from sklearn.linear_model import LogisticRegression\n",
        "from sklearn.metrics import accuracy_score,confusion_matrix"
      ],
      "execution_count": 1,
      "outputs": []
    },
    {
      "cell_type": "code",
      "metadata": {
        "id": "evJJOPtg_Y89"
      },
      "source": [
        "from keras.models import Sequential\n",
        "from tensorflow.keras import layers\n",
        "from keras.layers import Dense, Activation, Flatten\n",
        "from sklearn.metrics import mean_absolute_error\n",
        "import tensorflow as tf"
      ],
      "execution_count": 2,
      "outputs": []
    },
    {
      "cell_type": "code",
      "metadata": {
        "colab": {
          "base_uri": "https://localhost:8080/",
          "height": 202
        },
        "id": "n7PVmatI_sug",
        "outputId": "1060192a-535e-4659-94d7-17ae9cc89bd2"
      },
      "source": [
        "train_df = pd.read_csv(\"train.csv\")\n",
        "test_df = pd.read_csv(\"test.csv\")\n",
        "train_df.head()"
      ],
      "execution_count": 3,
      "outputs": [
        {
          "output_type": "execute_result",
          "data": {
            "text/html": [
              "<div>\n",
              "<style scoped>\n",
              "    .dataframe tbody tr th:only-of-type {\n",
              "        vertical-align: middle;\n",
              "    }\n",
              "\n",
              "    .dataframe tbody tr th {\n",
              "        vertical-align: top;\n",
              "    }\n",
              "\n",
              "    .dataframe thead th {\n",
              "        text-align: right;\n",
              "    }\n",
              "</style>\n",
              "<table border=\"1\" class=\"dataframe\">\n",
              "  <thead>\n",
              "    <tr style=\"text-align: right;\">\n",
              "      <th></th>\n",
              "      <th>PassengerId</th>\n",
              "      <th>Survived</th>\n",
              "      <th>Pclass</th>\n",
              "      <th>Name</th>\n",
              "      <th>Sex</th>\n",
              "      <th>Age</th>\n",
              "      <th>SibSp</th>\n",
              "      <th>Parch</th>\n",
              "      <th>Ticket</th>\n",
              "      <th>Fare</th>\n",
              "      <th>Cabin</th>\n",
              "      <th>Embarked</th>\n",
              "    </tr>\n",
              "  </thead>\n",
              "  <tbody>\n",
              "    <tr>\n",
              "      <th>0</th>\n",
              "      <td>1</td>\n",
              "      <td>0</td>\n",
              "      <td>3</td>\n",
              "      <td>Braund, Mr. Owen Harris</td>\n",
              "      <td>male</td>\n",
              "      <td>22.0</td>\n",
              "      <td>1</td>\n",
              "      <td>0</td>\n",
              "      <td>A/5 21171</td>\n",
              "      <td>7.2500</td>\n",
              "      <td>NaN</td>\n",
              "      <td>S</td>\n",
              "    </tr>\n",
              "    <tr>\n",
              "      <th>1</th>\n",
              "      <td>2</td>\n",
              "      <td>1</td>\n",
              "      <td>1</td>\n",
              "      <td>Cumings, Mrs. John Bradley (Florence Briggs Th...</td>\n",
              "      <td>female</td>\n",
              "      <td>38.0</td>\n",
              "      <td>1</td>\n",
              "      <td>0</td>\n",
              "      <td>PC 17599</td>\n",
              "      <td>71.2833</td>\n",
              "      <td>C85</td>\n",
              "      <td>C</td>\n",
              "    </tr>\n",
              "    <tr>\n",
              "      <th>2</th>\n",
              "      <td>3</td>\n",
              "      <td>1</td>\n",
              "      <td>3</td>\n",
              "      <td>Heikkinen, Miss. Laina</td>\n",
              "      <td>female</td>\n",
              "      <td>26.0</td>\n",
              "      <td>0</td>\n",
              "      <td>0</td>\n",
              "      <td>STON/O2. 3101282</td>\n",
              "      <td>7.9250</td>\n",
              "      <td>NaN</td>\n",
              "      <td>S</td>\n",
              "    </tr>\n",
              "    <tr>\n",
              "      <th>3</th>\n",
              "      <td>4</td>\n",
              "      <td>1</td>\n",
              "      <td>1</td>\n",
              "      <td>Futrelle, Mrs. Jacques Heath (Lily May Peel)</td>\n",
              "      <td>female</td>\n",
              "      <td>35.0</td>\n",
              "      <td>1</td>\n",
              "      <td>0</td>\n",
              "      <td>113803</td>\n",
              "      <td>53.1000</td>\n",
              "      <td>C123</td>\n",
              "      <td>S</td>\n",
              "    </tr>\n",
              "    <tr>\n",
              "      <th>4</th>\n",
              "      <td>5</td>\n",
              "      <td>0</td>\n",
              "      <td>3</td>\n",
              "      <td>Allen, Mr. William Henry</td>\n",
              "      <td>male</td>\n",
              "      <td>35.0</td>\n",
              "      <td>0</td>\n",
              "      <td>0</td>\n",
              "      <td>373450</td>\n",
              "      <td>8.0500</td>\n",
              "      <td>NaN</td>\n",
              "      <td>S</td>\n",
              "    </tr>\n",
              "  </tbody>\n",
              "</table>\n",
              "</div>"
            ],
            "text/plain": [
              "   PassengerId  Survived  Pclass  ...     Fare Cabin  Embarked\n",
              "0            1         0       3  ...   7.2500   NaN         S\n",
              "1            2         1       1  ...  71.2833   C85         C\n",
              "2            3         1       3  ...   7.9250   NaN         S\n",
              "3            4         1       1  ...  53.1000  C123         S\n",
              "4            5         0       3  ...   8.0500   NaN         S\n",
              "\n",
              "[5 rows x 12 columns]"
            ]
          },
          "metadata": {
            "tags": []
          },
          "execution_count": 3
        }
      ]
    },
    {
      "cell_type": "code",
      "metadata": {
        "colab": {
          "base_uri": "https://localhost:8080/",
          "height": 202
        },
        "id": "4xq8-Itd_7Ra",
        "outputId": "22e090a1-2e9a-4aa6-91db-a5218897070d"
      },
      "source": [
        "test_df.head()"
      ],
      "execution_count": 4,
      "outputs": [
        {
          "output_type": "execute_result",
          "data": {
            "text/html": [
              "<div>\n",
              "<style scoped>\n",
              "    .dataframe tbody tr th:only-of-type {\n",
              "        vertical-align: middle;\n",
              "    }\n",
              "\n",
              "    .dataframe tbody tr th {\n",
              "        vertical-align: top;\n",
              "    }\n",
              "\n",
              "    .dataframe thead th {\n",
              "        text-align: right;\n",
              "    }\n",
              "</style>\n",
              "<table border=\"1\" class=\"dataframe\">\n",
              "  <thead>\n",
              "    <tr style=\"text-align: right;\">\n",
              "      <th></th>\n",
              "      <th>PassengerId</th>\n",
              "      <th>Pclass</th>\n",
              "      <th>Name</th>\n",
              "      <th>Sex</th>\n",
              "      <th>Age</th>\n",
              "      <th>SibSp</th>\n",
              "      <th>Parch</th>\n",
              "      <th>Ticket</th>\n",
              "      <th>Fare</th>\n",
              "      <th>Cabin</th>\n",
              "      <th>Embarked</th>\n",
              "    </tr>\n",
              "  </thead>\n",
              "  <tbody>\n",
              "    <tr>\n",
              "      <th>0</th>\n",
              "      <td>892</td>\n",
              "      <td>3</td>\n",
              "      <td>Kelly, Mr. James</td>\n",
              "      <td>male</td>\n",
              "      <td>34.5</td>\n",
              "      <td>0</td>\n",
              "      <td>0</td>\n",
              "      <td>330911</td>\n",
              "      <td>7.8292</td>\n",
              "      <td>NaN</td>\n",
              "      <td>Q</td>\n",
              "    </tr>\n",
              "    <tr>\n",
              "      <th>1</th>\n",
              "      <td>893</td>\n",
              "      <td>3</td>\n",
              "      <td>Wilkes, Mrs. James (Ellen Needs)</td>\n",
              "      <td>female</td>\n",
              "      <td>47.0</td>\n",
              "      <td>1</td>\n",
              "      <td>0</td>\n",
              "      <td>363272</td>\n",
              "      <td>7.0000</td>\n",
              "      <td>NaN</td>\n",
              "      <td>S</td>\n",
              "    </tr>\n",
              "    <tr>\n",
              "      <th>2</th>\n",
              "      <td>894</td>\n",
              "      <td>2</td>\n",
              "      <td>Myles, Mr. Thomas Francis</td>\n",
              "      <td>male</td>\n",
              "      <td>62.0</td>\n",
              "      <td>0</td>\n",
              "      <td>0</td>\n",
              "      <td>240276</td>\n",
              "      <td>9.6875</td>\n",
              "      <td>NaN</td>\n",
              "      <td>Q</td>\n",
              "    </tr>\n",
              "    <tr>\n",
              "      <th>3</th>\n",
              "      <td>895</td>\n",
              "      <td>3</td>\n",
              "      <td>Wirz, Mr. Albert</td>\n",
              "      <td>male</td>\n",
              "      <td>27.0</td>\n",
              "      <td>0</td>\n",
              "      <td>0</td>\n",
              "      <td>315154</td>\n",
              "      <td>8.6625</td>\n",
              "      <td>NaN</td>\n",
              "      <td>S</td>\n",
              "    </tr>\n",
              "    <tr>\n",
              "      <th>4</th>\n",
              "      <td>896</td>\n",
              "      <td>3</td>\n",
              "      <td>Hirvonen, Mrs. Alexander (Helga E Lindqvist)</td>\n",
              "      <td>female</td>\n",
              "      <td>22.0</td>\n",
              "      <td>1</td>\n",
              "      <td>1</td>\n",
              "      <td>3101298</td>\n",
              "      <td>12.2875</td>\n",
              "      <td>NaN</td>\n",
              "      <td>S</td>\n",
              "    </tr>\n",
              "  </tbody>\n",
              "</table>\n",
              "</div>"
            ],
            "text/plain": [
              "   PassengerId  Pclass  ... Cabin Embarked\n",
              "0          892       3  ...   NaN        Q\n",
              "1          893       3  ...   NaN        S\n",
              "2          894       2  ...   NaN        Q\n",
              "3          895       3  ...   NaN        S\n",
              "4          896       3  ...   NaN        S\n",
              "\n",
              "[5 rows x 11 columns]"
            ]
          },
          "metadata": {
            "tags": []
          },
          "execution_count": 4
        }
      ]
    },
    {
      "cell_type": "code",
      "metadata": {
        "id": "iPON3SYE_-C-"
      },
      "source": [
        "train_df.set_index(['PassengerId'], inplace = True)\n",
        "test_df.set_index(['PassengerId'], inplace = True)"
      ],
      "execution_count": 5,
      "outputs": []
    },
    {
      "cell_type": "code",
      "metadata": {
        "colab": {
          "base_uri": "https://localhost:8080/"
        },
        "id": "iiuFaQYLABzd",
        "outputId": "9a3ea7bd-6c24-4c24-be3f-daf585c4ee15"
      },
      "source": [
        "#Let's generate random numbers between mean and std of Age to replace null values\n",
        "train_mn = train_df['Age'].mean()\n",
        "train_sd = train_df['Age'].std()\n",
        "import random\n",
        "from random import randrange\n",
        "for i in range(177):\n",
        "    val = random.uniform(train_sd, train_mn)\n",
        "train_df['Age'].replace(np.nan, val, inplace = True)\n",
        "train_df['Age']"
      ],
      "execution_count": 6,
      "outputs": [
        {
          "output_type": "execute_result",
          "data": {
            "text/plain": [
              "PassengerId\n",
              "1      22.000000\n",
              "2      38.000000\n",
              "3      26.000000\n",
              "4      35.000000\n",
              "5      35.000000\n",
              "         ...    \n",
              "887    27.000000\n",
              "888    19.000000\n",
              "889    19.201714\n",
              "890    26.000000\n",
              "891    32.000000\n",
              "Name: Age, Length: 891, dtype: float64"
            ]
          },
          "metadata": {
            "tags": []
          },
          "execution_count": 6
        }
      ]
    },
    {
      "cell_type": "code",
      "metadata": {
        "colab": {
          "base_uri": "https://localhost:8080/"
        },
        "id": "lvw6EF_yAHU9",
        "outputId": "f613e082-a7da-49f5-b564-196ab4b7dc8a"
      },
      "source": [
        "test_mn = test_df['Age'].mean()\n",
        "test_sd = test_df['Age'].std()\n",
        "import random\n",
        "from random import randrange\n",
        "for i in range(test_df['Age'].isnull().sum()):\n",
        "    tval = random.uniform(test_sd, test_mn)\n",
        "test_df['Age'].replace(np.nan, tval, inplace = True)\n",
        "test_df['Age']"
      ],
      "execution_count": 7,
      "outputs": [
        {
          "output_type": "execute_result",
          "data": {
            "text/plain": [
              "PassengerId\n",
              "892     34.500000\n",
              "893     47.000000\n",
              "894     62.000000\n",
              "895     27.000000\n",
              "896     22.000000\n",
              "          ...    \n",
              "1305    20.199917\n",
              "1306    39.000000\n",
              "1307    38.500000\n",
              "1308    20.199917\n",
              "1309    20.199917\n",
              "Name: Age, Length: 418, dtype: float64"
            ]
          },
          "metadata": {
            "tags": []
          },
          "execution_count": 7
        }
      ]
    },
    {
      "cell_type": "code",
      "metadata": {
        "colab": {
          "base_uri": "https://localhost:8080/",
          "height": 232
        },
        "id": "yXwHWEV8ANJl",
        "outputId": "149acfe3-7a8d-4900-a0a2-af817a17bd64"
      },
      "source": [
        "#Drop cabin column in both test and train cos of excess null values\n",
        "train_df = train_df.drop(['Cabin'], axis=1)\n",
        "test_df = test_df.drop(['Cabin'], axis =1)\n",
        "train_df.head()"
      ],
      "execution_count": 8,
      "outputs": [
        {
          "output_type": "execute_result",
          "data": {
            "text/html": [
              "<div>\n",
              "<style scoped>\n",
              "    .dataframe tbody tr th:only-of-type {\n",
              "        vertical-align: middle;\n",
              "    }\n",
              "\n",
              "    .dataframe tbody tr th {\n",
              "        vertical-align: top;\n",
              "    }\n",
              "\n",
              "    .dataframe thead th {\n",
              "        text-align: right;\n",
              "    }\n",
              "</style>\n",
              "<table border=\"1\" class=\"dataframe\">\n",
              "  <thead>\n",
              "    <tr style=\"text-align: right;\">\n",
              "      <th></th>\n",
              "      <th>Survived</th>\n",
              "      <th>Pclass</th>\n",
              "      <th>Name</th>\n",
              "      <th>Sex</th>\n",
              "      <th>Age</th>\n",
              "      <th>SibSp</th>\n",
              "      <th>Parch</th>\n",
              "      <th>Ticket</th>\n",
              "      <th>Fare</th>\n",
              "      <th>Embarked</th>\n",
              "    </tr>\n",
              "    <tr>\n",
              "      <th>PassengerId</th>\n",
              "      <th></th>\n",
              "      <th></th>\n",
              "      <th></th>\n",
              "      <th></th>\n",
              "      <th></th>\n",
              "      <th></th>\n",
              "      <th></th>\n",
              "      <th></th>\n",
              "      <th></th>\n",
              "      <th></th>\n",
              "    </tr>\n",
              "  </thead>\n",
              "  <tbody>\n",
              "    <tr>\n",
              "      <th>1</th>\n",
              "      <td>0</td>\n",
              "      <td>3</td>\n",
              "      <td>Braund, Mr. Owen Harris</td>\n",
              "      <td>male</td>\n",
              "      <td>22.0</td>\n",
              "      <td>1</td>\n",
              "      <td>0</td>\n",
              "      <td>A/5 21171</td>\n",
              "      <td>7.2500</td>\n",
              "      <td>S</td>\n",
              "    </tr>\n",
              "    <tr>\n",
              "      <th>2</th>\n",
              "      <td>1</td>\n",
              "      <td>1</td>\n",
              "      <td>Cumings, Mrs. John Bradley (Florence Briggs Th...</td>\n",
              "      <td>female</td>\n",
              "      <td>38.0</td>\n",
              "      <td>1</td>\n",
              "      <td>0</td>\n",
              "      <td>PC 17599</td>\n",
              "      <td>71.2833</td>\n",
              "      <td>C</td>\n",
              "    </tr>\n",
              "    <tr>\n",
              "      <th>3</th>\n",
              "      <td>1</td>\n",
              "      <td>3</td>\n",
              "      <td>Heikkinen, Miss. Laina</td>\n",
              "      <td>female</td>\n",
              "      <td>26.0</td>\n",
              "      <td>0</td>\n",
              "      <td>0</td>\n",
              "      <td>STON/O2. 3101282</td>\n",
              "      <td>7.9250</td>\n",
              "      <td>S</td>\n",
              "    </tr>\n",
              "    <tr>\n",
              "      <th>4</th>\n",
              "      <td>1</td>\n",
              "      <td>1</td>\n",
              "      <td>Futrelle, Mrs. Jacques Heath (Lily May Peel)</td>\n",
              "      <td>female</td>\n",
              "      <td>35.0</td>\n",
              "      <td>1</td>\n",
              "      <td>0</td>\n",
              "      <td>113803</td>\n",
              "      <td>53.1000</td>\n",
              "      <td>S</td>\n",
              "    </tr>\n",
              "    <tr>\n",
              "      <th>5</th>\n",
              "      <td>0</td>\n",
              "      <td>3</td>\n",
              "      <td>Allen, Mr. William Henry</td>\n",
              "      <td>male</td>\n",
              "      <td>35.0</td>\n",
              "      <td>0</td>\n",
              "      <td>0</td>\n",
              "      <td>373450</td>\n",
              "      <td>8.0500</td>\n",
              "      <td>S</td>\n",
              "    </tr>\n",
              "  </tbody>\n",
              "</table>\n",
              "</div>"
            ],
            "text/plain": [
              "             Survived  Pclass  ...     Fare Embarked\n",
              "PassengerId                    ...                  \n",
              "1                   0       3  ...   7.2500        S\n",
              "2                   1       1  ...  71.2833        C\n",
              "3                   1       3  ...   7.9250        S\n",
              "4                   1       1  ...  53.1000        S\n",
              "5                   0       3  ...   8.0500        S\n",
              "\n",
              "[5 rows x 10 columns]"
            ]
          },
          "metadata": {
            "tags": []
          },
          "execution_count": 8
        }
      ]
    },
    {
      "cell_type": "code",
      "metadata": {
        "id": "VqqbiDAOATGv"
      },
      "source": [
        "#Not much correlation. Drop fare column\n",
        "train_df = train_df.drop(['Fare'], axis = 1)\n",
        "test_df = test_df.drop(['Fare'], axis = 1)"
      ],
      "execution_count": 9,
      "outputs": []
    },
    {
      "cell_type": "code",
      "metadata": {
        "id": "EcdHpBvIAZEE"
      },
      "source": [
        "#Convert cateorical to numerical in Sex\n",
        "train_df['Sex']=train_df['Sex'].map({'female' : 1,'male' : 0}).astype(int)\n",
        "test_df['Sex']=test_df['Sex'].map({'female' : 1,'male' : 0}).astype(int)"
      ],
      "execution_count": 10,
      "outputs": []
    },
    {
      "cell_type": "code",
      "metadata": {
        "id": "gPxx10g9Ab69"
      },
      "source": [
        "train_df['Embarked'].value_counts()\n",
        "train_df.Embarked.replace(np.nan, 'S', inplace = True)\n",
        "dummy1 = pd.get_dummies(train_df['Embarked'])\n",
        "train_df = pd.concat([train_df, dummy1], axis = 1)\n",
        "dummy2 = pd.get_dummies(test_df['Embarked'])\n",
        "test_df = pd.concat([test_df, dummy2], axis = 1)"
      ],
      "execution_count": 11,
      "outputs": []
    },
    {
      "cell_type": "code",
      "metadata": {
        "id": "Lq7-RSWZAf0Q"
      },
      "source": [
        "train_df = train_df.drop('Embarked', axis = 1)\n",
        "test_df = test_df.drop('Embarked', axis =1)"
      ],
      "execution_count": 12,
      "outputs": []
    },
    {
      "cell_type": "code",
      "metadata": {
        "id": "CuoayeN_Ai2u"
      },
      "source": [
        "train_df = train_df.drop('Ticket', axis = 1)\n",
        "test_df = test_df.drop('Ticket', axis =1)"
      ],
      "execution_count": 13,
      "outputs": []
    },
    {
      "cell_type": "code",
      "metadata": {
        "id": "lzgmJZSfAmBC"
      },
      "source": [
        "train_df['Age'] = train_df['Age'].astype(int)\n",
        "test_df['Age'] = test_df['Age'].astype(int)"
      ],
      "execution_count": 14,
      "outputs": []
    },
    {
      "cell_type": "code",
      "metadata": {
        "id": "z3FfU4GlAoCm"
      },
      "source": [
        "train_df.loc[ train_df['Age'] <= 16, 'Age'] = 0\n",
        "train_df.loc[(train_df['Age'] > 16) & (train_df['Age'] <= 36), 'Age'] = 1\n",
        "train_df.loc[(train_df['Age'] > 36) & (train_df['Age'] <= 50), 'Age'] = 2\n",
        "train_df.loc[(train_df['Age'] > 50) & (train_df['Age'] <= 64), 'Age'] = 3\n",
        "train_df.loc[ train_df['Age'] > 64, 'Age'] = 4\n",
        "\n",
        "test_df.loc[ test_df['Age'] <= 16, 'Age'] = 0\n",
        "test_df.loc[(test_df['Age'] > 16) & (test_df['Age'] <= 36), 'Age'] = 1\n",
        "test_df.loc[(test_df['Age'] > 36) & (test_df['Age'] <= 50), 'Age'] = 2\n",
        "test_df.loc[(test_df['Age'] > 50) & (test_df['Age'] <= 64), 'Age'] = 3\n",
        "test_df.loc[ test_df['Age'] > 64, 'Age'] = 4"
      ],
      "execution_count": 15,
      "outputs": []
    },
    {
      "cell_type": "code",
      "metadata": {
        "id": "ygXalV-hAqfX"
      },
      "source": [
        "train_df = train_df.drop('Name', axis = 1)\n",
        "test_df = test_df.drop('Name', axis = 1)"
      ],
      "execution_count": 16,
      "outputs": []
    },
    {
      "cell_type": "code",
      "metadata": {
        "id": "jT4uhUvJAvCY"
      },
      "source": [
        "Y_train = train_df['Survived']\n",
        "X_train = train_df.drop(['Survived'], axis = 1)"
      ],
      "execution_count": 17,
      "outputs": []
    },
    {
      "cell_type": "code",
      "metadata": {
        "id": "704HKPWiAyCg"
      },
      "source": [
        "x_train, x_test, y_train, y_test = train_test_split(X_train, Y_train, test_size=0.8)"
      ],
      "execution_count": 18,
      "outputs": []
    },
    {
      "cell_type": "code",
      "metadata": {
        "id": "_qD8V2yzA0h3"
      },
      "source": [
        "model = tf.keras.Sequential([layers.Dense(units=1, input_shape = [len(X_train.columns)], activation = 'relu')])"
      ],
      "execution_count": 19,
      "outputs": []
    },
    {
      "cell_type": "code",
      "metadata": {
        "colab": {
          "base_uri": "https://localhost:8080/"
        },
        "id": "EC7JZyJ0A7xW",
        "outputId": "3f827e3e-9d6a-4fe6-8f83-03362768391f"
      },
      "source": [
        "len(X_train.columns)"
      ],
      "execution_count": 20,
      "outputs": [
        {
          "output_type": "execute_result",
          "data": {
            "text/plain": [
              "8"
            ]
          },
          "metadata": {
            "tags": []
          },
          "execution_count": 20
        }
      ]
    },
    {
      "cell_type": "code",
      "metadata": {
        "id": "56NglXfBBlK1"
      },
      "source": [
        "model.add(tf.keras.layers.Dense(128, activation= 'relu'))\n",
        "model.add(tf.keras.layers.Dense(128, activation='relu'))\n",
        "model.add(tf.keras.layers.Dense(1, activation= 'linear'))"
      ],
      "execution_count": 21,
      "outputs": []
    },
    {
      "cell_type": "code",
      "metadata": {
        "colab": {
          "base_uri": "https://localhost:8080/"
        },
        "id": "Tds9VYSgHgih",
        "outputId": "b10ce475-dcf5-449e-9002-a5c5dcf9344c"
      },
      "source": [
        "model.compile(optimizer = 'adam', loss = 'mean_absolute_error')\n",
        "model.summary()"
      ],
      "execution_count": 22,
      "outputs": [
        {
          "output_type": "stream",
          "text": [
            "Model: \"sequential\"\n",
            "_________________________________________________________________\n",
            "Layer (type)                 Output Shape              Param #   \n",
            "=================================================================\n",
            "dense (Dense)                (None, 1)                 9         \n",
            "_________________________________________________________________\n",
            "dense_1 (Dense)              (None, 128)               256       \n",
            "_________________________________________________________________\n",
            "dense_2 (Dense)              (None, 128)               16512     \n",
            "_________________________________________________________________\n",
            "dense_3 (Dense)              (None, 1)                 129       \n",
            "=================================================================\n",
            "Total params: 16,906\n",
            "Trainable params: 16,906\n",
            "Non-trainable params: 0\n",
            "_________________________________________________________________\n"
          ],
          "name": "stdout"
        }
      ]
    },
    {
      "cell_type": "code",
      "metadata": {
        "colab": {
          "base_uri": "https://localhost:8080/"
        },
        "id": "17Lqj59fHzoY",
        "outputId": "0ea0ca0f-f70c-4a38-aaac-7949b520785f"
      },
      "source": [
        "model.fit(x_train, y_train, batch_size=10, epochs=200)"
      ],
      "execution_count": 23,
      "outputs": [
        {
          "output_type": "stream",
          "text": [
            "Epoch 1/200\n",
            "18/18 [==============================] - 0s 2ms/step - loss: 0.4194\n",
            "Epoch 2/200\n",
            "18/18 [==============================] - 0s 2ms/step - loss: 0.4168\n",
            "Epoch 3/200\n",
            "18/18 [==============================] - 0s 1ms/step - loss: 0.4184\n",
            "Epoch 4/200\n",
            "18/18 [==============================] - 0s 2ms/step - loss: 0.4162\n",
            "Epoch 5/200\n",
            "18/18 [==============================] - 0s 1ms/step - loss: 0.4198\n",
            "Epoch 6/200\n",
            "18/18 [==============================] - 0s 2ms/step - loss: 0.4164\n",
            "Epoch 7/200\n",
            "18/18 [==============================] - 0s 2ms/step - loss: 0.4165\n",
            "Epoch 8/200\n",
            "18/18 [==============================] - 0s 2ms/step - loss: 0.4158\n",
            "Epoch 9/200\n",
            "18/18 [==============================] - 0s 1ms/step - loss: 0.4153\n",
            "Epoch 10/200\n",
            "18/18 [==============================] - 0s 2ms/step - loss: 0.4135\n",
            "Epoch 11/200\n",
            "18/18 [==============================] - 0s 2ms/step - loss: 0.4162\n",
            "Epoch 12/200\n",
            "18/18 [==============================] - 0s 2ms/step - loss: 0.4148\n",
            "Epoch 13/200\n",
            "18/18 [==============================] - 0s 2ms/step - loss: 0.4147\n",
            "Epoch 14/200\n",
            "18/18 [==============================] - 0s 2ms/step - loss: 0.4119\n",
            "Epoch 15/200\n",
            "18/18 [==============================] - 0s 1ms/step - loss: 0.4199\n",
            "Epoch 16/200\n",
            "18/18 [==============================] - 0s 1ms/step - loss: 0.4151\n",
            "Epoch 17/200\n",
            "18/18 [==============================] - 0s 2ms/step - loss: 0.4169\n",
            "Epoch 18/200\n",
            "18/18 [==============================] - 0s 2ms/step - loss: 0.4098\n",
            "Epoch 19/200\n",
            "18/18 [==============================] - 0s 2ms/step - loss: 0.4196\n",
            "Epoch 20/200\n",
            "18/18 [==============================] - 0s 2ms/step - loss: 0.4163\n",
            "Epoch 21/200\n",
            "18/18 [==============================] - 0s 1ms/step - loss: 0.4237\n",
            "Epoch 22/200\n",
            "18/18 [==============================] - 0s 2ms/step - loss: 0.4134\n",
            "Epoch 23/200\n",
            "18/18 [==============================] - 0s 3ms/step - loss: 0.4080\n",
            "Epoch 24/200\n",
            "18/18 [==============================] - 0s 2ms/step - loss: 0.4055\n",
            "Epoch 25/200\n",
            "18/18 [==============================] - 0s 2ms/step - loss: 0.4117\n",
            "Epoch 26/200\n",
            "18/18 [==============================] - 0s 2ms/step - loss: 0.4083\n",
            "Epoch 27/200\n",
            "18/18 [==============================] - 0s 1ms/step - loss: 0.4066\n",
            "Epoch 28/200\n",
            "18/18 [==============================] - 0s 2ms/step - loss: 0.4061\n",
            "Epoch 29/200\n",
            "18/18 [==============================] - 0s 1ms/step - loss: 0.4015\n",
            "Epoch 30/200\n",
            "18/18 [==============================] - 0s 2ms/step - loss: 0.3969\n",
            "Epoch 31/200\n",
            "18/18 [==============================] - 0s 2ms/step - loss: 0.3972\n",
            "Epoch 32/200\n",
            "18/18 [==============================] - 0s 2ms/step - loss: 0.3893\n",
            "Epoch 33/200\n",
            "18/18 [==============================] - 0s 2ms/step - loss: 0.3839\n",
            "Epoch 34/200\n",
            "18/18 [==============================] - 0s 2ms/step - loss: 0.3851\n",
            "Epoch 35/200\n",
            "18/18 [==============================] - 0s 2ms/step - loss: 0.3727\n",
            "Epoch 36/200\n",
            "18/18 [==============================] - 0s 2ms/step - loss: 0.3708\n",
            "Epoch 37/200\n",
            "18/18 [==============================] - 0s 1ms/step - loss: 0.3671\n",
            "Epoch 38/200\n",
            "18/18 [==============================] - 0s 2ms/step - loss: 0.3698\n",
            "Epoch 39/200\n",
            "18/18 [==============================] - 0s 2ms/step - loss: 0.3630\n",
            "Epoch 40/200\n",
            "18/18 [==============================] - 0s 2ms/step - loss: 0.3463\n",
            "Epoch 41/200\n",
            "18/18 [==============================] - 0s 2ms/step - loss: 0.3485\n",
            "Epoch 42/200\n",
            "18/18 [==============================] - 0s 2ms/step - loss: 0.3382\n",
            "Epoch 43/200\n",
            "18/18 [==============================] - 0s 1ms/step - loss: 0.3287\n",
            "Epoch 44/200\n",
            "18/18 [==============================] - 0s 1ms/step - loss: 0.3358\n",
            "Epoch 45/200\n",
            "18/18 [==============================] - 0s 2ms/step - loss: 0.3406\n",
            "Epoch 46/200\n",
            "18/18 [==============================] - 0s 2ms/step - loss: 0.3526\n",
            "Epoch 47/200\n",
            "18/18 [==============================] - 0s 1ms/step - loss: 0.3305\n",
            "Epoch 48/200\n",
            "18/18 [==============================] - 0s 2ms/step - loss: 0.3266\n",
            "Epoch 49/200\n",
            "18/18 [==============================] - 0s 1ms/step - loss: 0.3216\n",
            "Epoch 50/200\n",
            "18/18 [==============================] - 0s 2ms/step - loss: 0.3221\n",
            "Epoch 51/200\n",
            "18/18 [==============================] - 0s 2ms/step - loss: 0.3212\n",
            "Epoch 52/200\n",
            "18/18 [==============================] - 0s 2ms/step - loss: 0.3238\n",
            "Epoch 53/200\n",
            "18/18 [==============================] - 0s 2ms/step - loss: 0.3214\n",
            "Epoch 54/200\n",
            "18/18 [==============================] - 0s 2ms/step - loss: 0.3316\n",
            "Epoch 55/200\n",
            "18/18 [==============================] - 0s 2ms/step - loss: 0.3134\n",
            "Epoch 56/200\n",
            "18/18 [==============================] - 0s 2ms/step - loss: 0.3146\n",
            "Epoch 57/200\n",
            "18/18 [==============================] - 0s 2ms/step - loss: 0.3137\n",
            "Epoch 58/200\n",
            "18/18 [==============================] - 0s 2ms/step - loss: 0.3083\n",
            "Epoch 59/200\n",
            "18/18 [==============================] - 0s 2ms/step - loss: 0.3029\n",
            "Epoch 60/200\n",
            "18/18 [==============================] - 0s 2ms/step - loss: 0.3042\n",
            "Epoch 61/200\n",
            "18/18 [==============================] - 0s 2ms/step - loss: 0.2972\n",
            "Epoch 62/200\n",
            "18/18 [==============================] - 0s 2ms/step - loss: 0.2987\n",
            "Epoch 63/200\n",
            "18/18 [==============================] - 0s 2ms/step - loss: 0.3040\n",
            "Epoch 64/200\n",
            "18/18 [==============================] - 0s 2ms/step - loss: 0.3098\n",
            "Epoch 65/200\n",
            "18/18 [==============================] - 0s 2ms/step - loss: 0.3068\n",
            "Epoch 66/200\n",
            "18/18 [==============================] - 0s 1ms/step - loss: 0.2958\n",
            "Epoch 67/200\n",
            "18/18 [==============================] - 0s 1ms/step - loss: 0.2912\n",
            "Epoch 68/200\n",
            "18/18 [==============================] - 0s 1ms/step - loss: 0.2930\n",
            "Epoch 69/200\n",
            "18/18 [==============================] - 0s 2ms/step - loss: 0.3018\n",
            "Epoch 70/200\n",
            "18/18 [==============================] - 0s 1ms/step - loss: 0.2870\n",
            "Epoch 71/200\n",
            "18/18 [==============================] - 0s 2ms/step - loss: 0.2960\n",
            "Epoch 72/200\n",
            "18/18 [==============================] - 0s 2ms/step - loss: 0.2830\n",
            "Epoch 73/200\n",
            "18/18 [==============================] - 0s 2ms/step - loss: 0.2783\n",
            "Epoch 74/200\n",
            "18/18 [==============================] - 0s 2ms/step - loss: 0.2830\n",
            "Epoch 75/200\n",
            "18/18 [==============================] - 0s 2ms/step - loss: 0.2845\n",
            "Epoch 76/200\n",
            "18/18 [==============================] - 0s 2ms/step - loss: 0.2792\n",
            "Epoch 77/200\n",
            "18/18 [==============================] - 0s 2ms/step - loss: 0.2876\n",
            "Epoch 78/200\n",
            "18/18 [==============================] - 0s 2ms/step - loss: 0.2901\n",
            "Epoch 79/200\n",
            "18/18 [==============================] - 0s 2ms/step - loss: 0.2778\n",
            "Epoch 80/200\n",
            "18/18 [==============================] - 0s 2ms/step - loss: 0.2793\n",
            "Epoch 81/200\n",
            "18/18 [==============================] - 0s 2ms/step - loss: 0.2755\n",
            "Epoch 82/200\n",
            "18/18 [==============================] - 0s 2ms/step - loss: 0.2993\n",
            "Epoch 83/200\n",
            "18/18 [==============================] - 0s 2ms/step - loss: 0.2805\n",
            "Epoch 84/200\n",
            "18/18 [==============================] - 0s 2ms/step - loss: 0.2868\n",
            "Epoch 85/200\n",
            "18/18 [==============================] - 0s 1ms/step - loss: 0.2806\n",
            "Epoch 86/200\n",
            "18/18 [==============================] - 0s 2ms/step - loss: 0.2802\n",
            "Epoch 87/200\n",
            "18/18 [==============================] - 0s 2ms/step - loss: 0.2760\n",
            "Epoch 88/200\n",
            "18/18 [==============================] - 0s 2ms/step - loss: 0.2744\n",
            "Epoch 89/200\n",
            "18/18 [==============================] - 0s 2ms/step - loss: 0.2853\n",
            "Epoch 90/200\n",
            "18/18 [==============================] - 0s 2ms/step - loss: 0.2789\n",
            "Epoch 91/200\n",
            "18/18 [==============================] - 0s 1ms/step - loss: 0.2719\n",
            "Epoch 92/200\n",
            "18/18 [==============================] - 0s 2ms/step - loss: 0.2790\n",
            "Epoch 93/200\n",
            "18/18 [==============================] - 0s 2ms/step - loss: 0.2739\n",
            "Epoch 94/200\n",
            "18/18 [==============================] - 0s 2ms/step - loss: 0.2758\n",
            "Epoch 95/200\n",
            "18/18 [==============================] - 0s 2ms/step - loss: 0.2878\n",
            "Epoch 96/200\n",
            "18/18 [==============================] - 0s 2ms/step - loss: 0.3013\n",
            "Epoch 97/200\n",
            "18/18 [==============================] - 0s 2ms/step - loss: 0.2767\n",
            "Epoch 98/200\n",
            "18/18 [==============================] - 0s 1ms/step - loss: 0.2747\n",
            "Epoch 99/200\n",
            "18/18 [==============================] - 0s 2ms/step - loss: 0.2855\n",
            "Epoch 100/200\n",
            "18/18 [==============================] - 0s 2ms/step - loss: 0.2807\n",
            "Epoch 101/200\n",
            "18/18 [==============================] - 0s 2ms/step - loss: 0.2695\n",
            "Epoch 102/200\n",
            "18/18 [==============================] - 0s 2ms/step - loss: 0.2646\n",
            "Epoch 103/200\n",
            "18/18 [==============================] - 0s 2ms/step - loss: 0.2672\n",
            "Epoch 104/200\n",
            "18/18 [==============================] - 0s 2ms/step - loss: 0.2707\n",
            "Epoch 105/200\n",
            "18/18 [==============================] - 0s 2ms/step - loss: 0.2710\n",
            "Epoch 106/200\n",
            "18/18 [==============================] - 0s 2ms/step - loss: 0.2746\n",
            "Epoch 107/200\n",
            "18/18 [==============================] - 0s 1ms/step - loss: 0.2635\n",
            "Epoch 108/200\n",
            "18/18 [==============================] - 0s 2ms/step - loss: 0.2665\n",
            "Epoch 109/200\n",
            "18/18 [==============================] - 0s 2ms/step - loss: 0.2679\n",
            "Epoch 110/200\n",
            "18/18 [==============================] - 0s 1ms/step - loss: 0.2680\n",
            "Epoch 111/200\n",
            "18/18 [==============================] - 0s 2ms/step - loss: 0.2698\n",
            "Epoch 112/200\n",
            "18/18 [==============================] - 0s 2ms/step - loss: 0.2674\n",
            "Epoch 113/200\n",
            "18/18 [==============================] - 0s 1ms/step - loss: 0.2679\n",
            "Epoch 114/200\n",
            "18/18 [==============================] - 0s 2ms/step - loss: 0.2595\n",
            "Epoch 115/200\n",
            "18/18 [==============================] - 0s 2ms/step - loss: 0.2691\n",
            "Epoch 116/200\n",
            "18/18 [==============================] - 0s 2ms/step - loss: 0.2613\n",
            "Epoch 117/200\n",
            "18/18 [==============================] - 0s 2ms/step - loss: 0.2630\n",
            "Epoch 118/200\n",
            "18/18 [==============================] - 0s 2ms/step - loss: 0.2692\n",
            "Epoch 119/200\n",
            "18/18 [==============================] - 0s 2ms/step - loss: 0.2590\n",
            "Epoch 120/200\n",
            "18/18 [==============================] - 0s 1ms/step - loss: 0.2568\n",
            "Epoch 121/200\n",
            "18/18 [==============================] - 0s 2ms/step - loss: 0.2620\n",
            "Epoch 122/200\n",
            "18/18 [==============================] - 0s 2ms/step - loss: 0.2618\n",
            "Epoch 123/200\n",
            "18/18 [==============================] - 0s 2ms/step - loss: 0.2605\n",
            "Epoch 124/200\n",
            "18/18 [==============================] - 0s 1ms/step - loss: 0.2589\n",
            "Epoch 125/200\n",
            "18/18 [==============================] - 0s 2ms/step - loss: 0.2598\n",
            "Epoch 126/200\n",
            "18/18 [==============================] - 0s 2ms/step - loss: 0.2555\n",
            "Epoch 127/200\n",
            "18/18 [==============================] - 0s 2ms/step - loss: 0.2589\n",
            "Epoch 128/200\n",
            "18/18 [==============================] - 0s 2ms/step - loss: 0.2605\n",
            "Epoch 129/200\n",
            "18/18 [==============================] - 0s 2ms/step - loss: 0.2628\n",
            "Epoch 130/200\n",
            "18/18 [==============================] - 0s 2ms/step - loss: 0.2643\n",
            "Epoch 131/200\n",
            "18/18 [==============================] - 0s 2ms/step - loss: 0.2628\n",
            "Epoch 132/200\n",
            "18/18 [==============================] - 0s 2ms/step - loss: 0.2602\n",
            "Epoch 133/200\n",
            "18/18 [==============================] - 0s 2ms/step - loss: 0.2540\n",
            "Epoch 134/200\n",
            "18/18 [==============================] - 0s 2ms/step - loss: 0.2560\n",
            "Epoch 135/200\n",
            "18/18 [==============================] - 0s 2ms/step - loss: 0.2527\n",
            "Epoch 136/200\n",
            "18/18 [==============================] - 0s 2ms/step - loss: 0.2502\n",
            "Epoch 137/200\n",
            "18/18 [==============================] - 0s 2ms/step - loss: 0.2520\n",
            "Epoch 138/200\n",
            "18/18 [==============================] - 0s 2ms/step - loss: 0.2529\n",
            "Epoch 139/200\n",
            "18/18 [==============================] - 0s 2ms/step - loss: 0.2565\n",
            "Epoch 140/200\n",
            "18/18 [==============================] - 0s 2ms/step - loss: 0.2538\n",
            "Epoch 141/200\n",
            "18/18 [==============================] - 0s 2ms/step - loss: 0.2599\n",
            "Epoch 142/200\n",
            "18/18 [==============================] - 0s 2ms/step - loss: 0.2547\n",
            "Epoch 143/200\n",
            "18/18 [==============================] - 0s 2ms/step - loss: 0.2566\n",
            "Epoch 144/200\n",
            "18/18 [==============================] - 0s 2ms/step - loss: 0.2596\n",
            "Epoch 145/200\n",
            "18/18 [==============================] - 0s 2ms/step - loss: 0.2583\n",
            "Epoch 146/200\n",
            "18/18 [==============================] - 0s 2ms/step - loss: 0.2519\n",
            "Epoch 147/200\n",
            "18/18 [==============================] - 0s 2ms/step - loss: 0.2533\n",
            "Epoch 148/200\n",
            "18/18 [==============================] - 0s 2ms/step - loss: 0.2487\n",
            "Epoch 149/200\n",
            "18/18 [==============================] - 0s 2ms/step - loss: 0.2483\n",
            "Epoch 150/200\n",
            "18/18 [==============================] - 0s 2ms/step - loss: 0.2471\n",
            "Epoch 151/200\n",
            "18/18 [==============================] - 0s 2ms/step - loss: 0.2502\n",
            "Epoch 152/200\n",
            "18/18 [==============================] - 0s 2ms/step - loss: 0.2588\n",
            "Epoch 153/200\n",
            "18/18 [==============================] - 0s 2ms/step - loss: 0.2568\n",
            "Epoch 154/200\n",
            "18/18 [==============================] - 0s 2ms/step - loss: 0.2490\n",
            "Epoch 155/200\n",
            "18/18 [==============================] - 0s 2ms/step - loss: 0.2492\n",
            "Epoch 156/200\n",
            "18/18 [==============================] - 0s 2ms/step - loss: 0.2545\n",
            "Epoch 157/200\n",
            "18/18 [==============================] - 0s 3ms/step - loss: 0.2517\n",
            "Epoch 158/200\n",
            "18/18 [==============================] - 0s 2ms/step - loss: 0.2447\n",
            "Epoch 159/200\n",
            "18/18 [==============================] - 0s 2ms/step - loss: 0.2465\n",
            "Epoch 160/200\n",
            "18/18 [==============================] - 0s 1ms/step - loss: 0.2490\n",
            "Epoch 161/200\n",
            "18/18 [==============================] - 0s 2ms/step - loss: 0.2535\n",
            "Epoch 162/200\n",
            "18/18 [==============================] - 0s 2ms/step - loss: 0.2670\n",
            "Epoch 163/200\n",
            "18/18 [==============================] - 0s 2ms/step - loss: 0.2604\n",
            "Epoch 164/200\n",
            "18/18 [==============================] - 0s 2ms/step - loss: 0.2543\n",
            "Epoch 165/200\n",
            "18/18 [==============================] - 0s 2ms/step - loss: 0.2510\n",
            "Epoch 166/200\n",
            "18/18 [==============================] - 0s 2ms/step - loss: 0.2597\n",
            "Epoch 167/200\n",
            "18/18 [==============================] - 0s 2ms/step - loss: 0.2543\n",
            "Epoch 168/200\n",
            "18/18 [==============================] - 0s 2ms/step - loss: 0.2510\n",
            "Epoch 169/200\n",
            "18/18 [==============================] - 0s 2ms/step - loss: 0.2539\n",
            "Epoch 170/200\n",
            "18/18 [==============================] - 0s 2ms/step - loss: 0.2571\n",
            "Epoch 171/200\n",
            "18/18 [==============================] - 0s 2ms/step - loss: 0.2500\n",
            "Epoch 172/200\n",
            "18/18 [==============================] - 0s 2ms/step - loss: 0.2482\n",
            "Epoch 173/200\n",
            "18/18 [==============================] - 0s 2ms/step - loss: 0.2457\n",
            "Epoch 174/200\n",
            "18/18 [==============================] - 0s 2ms/step - loss: 0.2520\n",
            "Epoch 175/200\n",
            "18/18 [==============================] - 0s 2ms/step - loss: 0.2478\n",
            "Epoch 176/200\n",
            "18/18 [==============================] - 0s 2ms/step - loss: 0.2542\n",
            "Epoch 177/200\n",
            "18/18 [==============================] - 0s 2ms/step - loss: 0.2542\n",
            "Epoch 178/200\n",
            "18/18 [==============================] - 0s 2ms/step - loss: 0.2462\n",
            "Epoch 179/200\n",
            "18/18 [==============================] - 0s 2ms/step - loss: 0.2480\n",
            "Epoch 180/200\n",
            "18/18 [==============================] - 0s 1ms/step - loss: 0.2462\n",
            "Epoch 181/200\n",
            "18/18 [==============================] - 0s 2ms/step - loss: 0.2609\n",
            "Epoch 182/200\n",
            "18/18 [==============================] - 0s 2ms/step - loss: 0.2614\n",
            "Epoch 183/200\n",
            "18/18 [==============================] - 0s 2ms/step - loss: 0.2589\n",
            "Epoch 184/200\n",
            "18/18 [==============================] - 0s 2ms/step - loss: 0.2577\n",
            "Epoch 185/200\n",
            "18/18 [==============================] - 0s 2ms/step - loss: 0.2493\n",
            "Epoch 186/200\n",
            "18/18 [==============================] - 0s 2ms/step - loss: 0.2476\n",
            "Epoch 187/200\n",
            "18/18 [==============================] - 0s 2ms/step - loss: 0.2528\n",
            "Epoch 188/200\n",
            "18/18 [==============================] - 0s 2ms/step - loss: 0.2468\n",
            "Epoch 189/200\n",
            "18/18 [==============================] - 0s 2ms/step - loss: 0.2506\n",
            "Epoch 190/200\n",
            "18/18 [==============================] - 0s 2ms/step - loss: 0.2532\n",
            "Epoch 191/200\n",
            "18/18 [==============================] - 0s 2ms/step - loss: 0.2635\n",
            "Epoch 192/200\n",
            "18/18 [==============================] - 0s 2ms/step - loss: 0.2425\n",
            "Epoch 193/200\n",
            "18/18 [==============================] - 0s 2ms/step - loss: 0.2583\n",
            "Epoch 194/200\n",
            "18/18 [==============================] - 0s 2ms/step - loss: 0.2557\n",
            "Epoch 195/200\n",
            "18/18 [==============================] - 0s 2ms/step - loss: 0.2540\n",
            "Epoch 196/200\n",
            "18/18 [==============================] - 0s 2ms/step - loss: 0.2569\n",
            "Epoch 197/200\n",
            "18/18 [==============================] - 0s 2ms/step - loss: 0.2490\n",
            "Epoch 198/200\n",
            "18/18 [==============================] - 0s 2ms/step - loss: 0.2497\n",
            "Epoch 199/200\n",
            "18/18 [==============================] - 0s 2ms/step - loss: 0.2457\n",
            "Epoch 200/200\n",
            "18/18 [==============================] - 0s 2ms/step - loss: 0.2511\n"
          ],
          "name": "stdout"
        },
        {
          "output_type": "execute_result",
          "data": {
            "text/plain": [
              "<tensorflow.python.keras.callbacks.History at 0x7fe165380410>"
            ]
          },
          "metadata": {
            "tags": []
          },
          "execution_count": 23
        }
      ]
    },
    {
      "cell_type": "code",
      "metadata": {
        "colab": {
          "base_uri": "https://localhost:8080/"
        },
        "id": "kt6HqJnKLaaN",
        "outputId": "3e4918ff-6a11-4c9a-9175-88e444014bcd"
      },
      "source": [
        "pp = model.predict(x_test)\n",
        "MAE = mean_absolute_error(y_test, pp)\n",
        "MAE"
      ],
      "execution_count": 24,
      "outputs": [
        {
          "output_type": "execute_result",
          "data": {
            "text/plain": [
              "0.2592146932493587"
            ]
          },
          "metadata": {
            "tags": []
          },
          "execution_count": 24
        }
      ]
    },
    {
      "cell_type": "code",
      "metadata": {
        "colab": {
          "base_uri": "https://localhost:8080/",
          "height": 202
        },
        "id": "HohXewL9IYN2",
        "outputId": "a648cd08-c6bb-4d73-955a-691e8e263a57"
      },
      "source": [
        "pred = model.predict(test_df)\n",
        "pred = pred.astype(int)\n",
        "pred = pd.DataFrame(pred, columns=['Survived'])\n",
        "pred.head()"
      ],
      "execution_count": 25,
      "outputs": [
        {
          "output_type": "execute_result",
          "data": {
            "text/html": [
              "<div>\n",
              "<style scoped>\n",
              "    .dataframe tbody tr th:only-of-type {\n",
              "        vertical-align: middle;\n",
              "    }\n",
              "\n",
              "    .dataframe tbody tr th {\n",
              "        vertical-align: top;\n",
              "    }\n",
              "\n",
              "    .dataframe thead th {\n",
              "        text-align: right;\n",
              "    }\n",
              "</style>\n",
              "<table border=\"1\" class=\"dataframe\">\n",
              "  <thead>\n",
              "    <tr style=\"text-align: right;\">\n",
              "      <th></th>\n",
              "      <th>Survived</th>\n",
              "    </tr>\n",
              "  </thead>\n",
              "  <tbody>\n",
              "    <tr>\n",
              "      <th>0</th>\n",
              "      <td>0</td>\n",
              "    </tr>\n",
              "    <tr>\n",
              "      <th>1</th>\n",
              "      <td>0</td>\n",
              "    </tr>\n",
              "    <tr>\n",
              "      <th>2</th>\n",
              "      <td>0</td>\n",
              "    </tr>\n",
              "    <tr>\n",
              "      <th>3</th>\n",
              "      <td>0</td>\n",
              "    </tr>\n",
              "    <tr>\n",
              "      <th>4</th>\n",
              "      <td>0</td>\n",
              "    </tr>\n",
              "  </tbody>\n",
              "</table>\n",
              "</div>"
            ],
            "text/plain": [
              "   Survived\n",
              "0         0\n",
              "1         0\n",
              "2         0\n",
              "3         0\n",
              "4         0"
            ]
          },
          "metadata": {
            "tags": []
          },
          "execution_count": 25
        }
      ]
    },
    {
      "cell_type": "code",
      "metadata": {
        "id": "OUPzGPp3JEdJ"
      },
      "source": [
        ""
      ],
      "execution_count": 25,
      "outputs": []
    },
    {
      "cell_type": "code",
      "metadata": {
        "colab": {
          "base_uri": "https://localhost:8080/",
          "height": 414
        },
        "id": "Wjbg-RYuJjjI",
        "outputId": "62798d62-8036-4287-f7cf-3e5d57458972"
      },
      "source": [
        "pred"
      ],
      "execution_count": 26,
      "outputs": [
        {
          "output_type": "execute_result",
          "data": {
            "text/html": [
              "<div>\n",
              "<style scoped>\n",
              "    .dataframe tbody tr th:only-of-type {\n",
              "        vertical-align: middle;\n",
              "    }\n",
              "\n",
              "    .dataframe tbody tr th {\n",
              "        vertical-align: top;\n",
              "    }\n",
              "\n",
              "    .dataframe thead th {\n",
              "        text-align: right;\n",
              "    }\n",
              "</style>\n",
              "<table border=\"1\" class=\"dataframe\">\n",
              "  <thead>\n",
              "    <tr style=\"text-align: right;\">\n",
              "      <th></th>\n",
              "      <th>Survived</th>\n",
              "    </tr>\n",
              "  </thead>\n",
              "  <tbody>\n",
              "    <tr>\n",
              "      <th>0</th>\n",
              "      <td>0</td>\n",
              "    </tr>\n",
              "    <tr>\n",
              "      <th>1</th>\n",
              "      <td>0</td>\n",
              "    </tr>\n",
              "    <tr>\n",
              "      <th>2</th>\n",
              "      <td>0</td>\n",
              "    </tr>\n",
              "    <tr>\n",
              "      <th>3</th>\n",
              "      <td>0</td>\n",
              "    </tr>\n",
              "    <tr>\n",
              "      <th>4</th>\n",
              "      <td>0</td>\n",
              "    </tr>\n",
              "    <tr>\n",
              "      <th>...</th>\n",
              "      <td>...</td>\n",
              "    </tr>\n",
              "    <tr>\n",
              "      <th>413</th>\n",
              "      <td>0</td>\n",
              "    </tr>\n",
              "    <tr>\n",
              "      <th>414</th>\n",
              "      <td>0</td>\n",
              "    </tr>\n",
              "    <tr>\n",
              "      <th>415</th>\n",
              "      <td>0</td>\n",
              "    </tr>\n",
              "    <tr>\n",
              "      <th>416</th>\n",
              "      <td>0</td>\n",
              "    </tr>\n",
              "    <tr>\n",
              "      <th>417</th>\n",
              "      <td>0</td>\n",
              "    </tr>\n",
              "  </tbody>\n",
              "</table>\n",
              "<p>418 rows × 1 columns</p>\n",
              "</div>"
            ],
            "text/plain": [
              "     Survived\n",
              "0           0\n",
              "1           0\n",
              "2           0\n",
              "3           0\n",
              "4           0\n",
              "..        ...\n",
              "413         0\n",
              "414         0\n",
              "415         0\n",
              "416         0\n",
              "417         0\n",
              "\n",
              "[418 rows x 1 columns]"
            ]
          },
          "metadata": {
            "tags": []
          },
          "execution_count": 26
        }
      ]
    },
    {
      "cell_type": "code",
      "metadata": {
        "id": "UOF9yZ4OJk9J"
      },
      "source": [
        ""
      ],
      "execution_count": 26,
      "outputs": []
    },
    {
      "cell_type": "code",
      "metadata": {
        "colab": {
          "base_uri": "https://localhost:8080/",
          "height": 414
        },
        "id": "ipmaOjEZJxPH",
        "outputId": "5a6d5cce-67f7-450a-a45b-236dc0bb3732"
      },
      "source": [
        "test1 = pd.read_csv(\"test.csv\")\n",
        "submission = pd.DataFrame(test1['PassengerId'])\n",
        "submission"
      ],
      "execution_count": 27,
      "outputs": [
        {
          "output_type": "execute_result",
          "data": {
            "text/html": [
              "<div>\n",
              "<style scoped>\n",
              "    .dataframe tbody tr th:only-of-type {\n",
              "        vertical-align: middle;\n",
              "    }\n",
              "\n",
              "    .dataframe tbody tr th {\n",
              "        vertical-align: top;\n",
              "    }\n",
              "\n",
              "    .dataframe thead th {\n",
              "        text-align: right;\n",
              "    }\n",
              "</style>\n",
              "<table border=\"1\" class=\"dataframe\">\n",
              "  <thead>\n",
              "    <tr style=\"text-align: right;\">\n",
              "      <th></th>\n",
              "      <th>PassengerId</th>\n",
              "    </tr>\n",
              "  </thead>\n",
              "  <tbody>\n",
              "    <tr>\n",
              "      <th>0</th>\n",
              "      <td>892</td>\n",
              "    </tr>\n",
              "    <tr>\n",
              "      <th>1</th>\n",
              "      <td>893</td>\n",
              "    </tr>\n",
              "    <tr>\n",
              "      <th>2</th>\n",
              "      <td>894</td>\n",
              "    </tr>\n",
              "    <tr>\n",
              "      <th>3</th>\n",
              "      <td>895</td>\n",
              "    </tr>\n",
              "    <tr>\n",
              "      <th>4</th>\n",
              "      <td>896</td>\n",
              "    </tr>\n",
              "    <tr>\n",
              "      <th>...</th>\n",
              "      <td>...</td>\n",
              "    </tr>\n",
              "    <tr>\n",
              "      <th>413</th>\n",
              "      <td>1305</td>\n",
              "    </tr>\n",
              "    <tr>\n",
              "      <th>414</th>\n",
              "      <td>1306</td>\n",
              "    </tr>\n",
              "    <tr>\n",
              "      <th>415</th>\n",
              "      <td>1307</td>\n",
              "    </tr>\n",
              "    <tr>\n",
              "      <th>416</th>\n",
              "      <td>1308</td>\n",
              "    </tr>\n",
              "    <tr>\n",
              "      <th>417</th>\n",
              "      <td>1309</td>\n",
              "    </tr>\n",
              "  </tbody>\n",
              "</table>\n",
              "<p>418 rows × 1 columns</p>\n",
              "</div>"
            ],
            "text/plain": [
              "     PassengerId\n",
              "0            892\n",
              "1            893\n",
              "2            894\n",
              "3            895\n",
              "4            896\n",
              "..           ...\n",
              "413         1305\n",
              "414         1306\n",
              "415         1307\n",
              "416         1308\n",
              "417         1309\n",
              "\n",
              "[418 rows x 1 columns]"
            ]
          },
          "metadata": {
            "tags": []
          },
          "execution_count": 27
        }
      ]
    },
    {
      "cell_type": "code",
      "metadata": {
        "colab": {
          "base_uri": "https://localhost:8080/",
          "height": 445
        },
        "id": "H6UzDghsJ5wT",
        "outputId": "fa626fbd-f2a4-45eb-d550-5ff032526908"
      },
      "source": [
        "submission = pd.concat([submission, pred], axis = 1)\n",
        "submission.set_index(['PassengerId'], inplace = True)\n",
        "submission"
      ],
      "execution_count": 28,
      "outputs": [
        {
          "output_type": "execute_result",
          "data": {
            "text/html": [
              "<div>\n",
              "<style scoped>\n",
              "    .dataframe tbody tr th:only-of-type {\n",
              "        vertical-align: middle;\n",
              "    }\n",
              "\n",
              "    .dataframe tbody tr th {\n",
              "        vertical-align: top;\n",
              "    }\n",
              "\n",
              "    .dataframe thead th {\n",
              "        text-align: right;\n",
              "    }\n",
              "</style>\n",
              "<table border=\"1\" class=\"dataframe\">\n",
              "  <thead>\n",
              "    <tr style=\"text-align: right;\">\n",
              "      <th></th>\n",
              "      <th>Survived</th>\n",
              "    </tr>\n",
              "    <tr>\n",
              "      <th>PassengerId</th>\n",
              "      <th></th>\n",
              "    </tr>\n",
              "  </thead>\n",
              "  <tbody>\n",
              "    <tr>\n",
              "      <th>892</th>\n",
              "      <td>0</td>\n",
              "    </tr>\n",
              "    <tr>\n",
              "      <th>893</th>\n",
              "      <td>0</td>\n",
              "    </tr>\n",
              "    <tr>\n",
              "      <th>894</th>\n",
              "      <td>0</td>\n",
              "    </tr>\n",
              "    <tr>\n",
              "      <th>895</th>\n",
              "      <td>0</td>\n",
              "    </tr>\n",
              "    <tr>\n",
              "      <th>896</th>\n",
              "      <td>0</td>\n",
              "    </tr>\n",
              "    <tr>\n",
              "      <th>...</th>\n",
              "      <td>...</td>\n",
              "    </tr>\n",
              "    <tr>\n",
              "      <th>1305</th>\n",
              "      <td>0</td>\n",
              "    </tr>\n",
              "    <tr>\n",
              "      <th>1306</th>\n",
              "      <td>0</td>\n",
              "    </tr>\n",
              "    <tr>\n",
              "      <th>1307</th>\n",
              "      <td>0</td>\n",
              "    </tr>\n",
              "    <tr>\n",
              "      <th>1308</th>\n",
              "      <td>0</td>\n",
              "    </tr>\n",
              "    <tr>\n",
              "      <th>1309</th>\n",
              "      <td>0</td>\n",
              "    </tr>\n",
              "  </tbody>\n",
              "</table>\n",
              "<p>418 rows × 1 columns</p>\n",
              "</div>"
            ],
            "text/plain": [
              "             Survived\n",
              "PassengerId          \n",
              "892                 0\n",
              "893                 0\n",
              "894                 0\n",
              "895                 0\n",
              "896                 0\n",
              "...               ...\n",
              "1305                0\n",
              "1306                0\n",
              "1307                0\n",
              "1308                0\n",
              "1309                0\n",
              "\n",
              "[418 rows x 1 columns]"
            ]
          },
          "metadata": {
            "tags": []
          },
          "execution_count": 28
        }
      ]
    },
    {
      "cell_type": "code",
      "metadata": {
        "id": "BkUiECQOJ-1x"
      },
      "source": [
        "submission.to_csv('Submit.csv')"
      ],
      "execution_count": 29,
      "outputs": []
    },
    {
      "cell_type": "code",
      "metadata": {
        "id": "h2kmtbooKFsB"
      },
      "source": [
        ""
      ],
      "execution_count": 29,
      "outputs": []
    }
  ]
}